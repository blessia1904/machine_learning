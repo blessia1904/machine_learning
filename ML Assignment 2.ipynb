{
 "cells": [
  {
   "cell_type": "code",
   "execution_count": 1,
   "id": "f387de06",
   "metadata": {},
   "outputs": [],
   "source": [
    "import pandas as pd\n",
    "import numpy as np\n",
    "import seaborn as sns\n",
    "import statsmodels.api as sm\n",
    "import statsmodels.formula.api as smf \n",
    "from sklearn.model_selection import train_test_split\n",
    "from sklearn.metrics import explained_variance_score\n",
    "from sklearn.linear_model import LogisticRegression, LinearRegression\n",
    "from statsmodels.graphics.factorplots import interaction_plot\n",
    "import matplotlib.pyplot as plt\n"
   ]
  },
  {
   "cell_type": "markdown",
   "id": "c564fc04",
   "metadata": {},
   "source": [
    "### Q1: Using the sales.csv Download sales.csv, write code to show effects of interactions, if any, on the linear regression model to predict the total_sales for a new area using given sales from three areas."
   ]
  },
  {
   "cell_type": "code",
   "execution_count": 2,
   "id": "77ea98bb",
   "metadata": {},
   "outputs": [
    {
     "data": {
      "text/html": [
       "<div>\n",
       "<style scoped>\n",
       "    .dataframe tbody tr th:only-of-type {\n",
       "        vertical-align: middle;\n",
       "    }\n",
       "\n",
       "    .dataframe tbody tr th {\n",
       "        vertical-align: top;\n",
       "    }\n",
       "\n",
       "    .dataframe thead th {\n",
       "        text-align: right;\n",
       "    }\n",
       "</style>\n",
       "<table border=\"1\" class=\"dataframe\">\n",
       "  <thead>\n",
       "    <tr style=\"text-align: right;\">\n",
       "      <th></th>\n",
       "      <th>Unnamed: 0</th>\n",
       "      <th>area1_sales</th>\n",
       "      <th>area2_sales</th>\n",
       "      <th>area3_sales</th>\n",
       "      <th>total_sales</th>\n",
       "    </tr>\n",
       "  </thead>\n",
       "  <tbody>\n",
       "    <tr>\n",
       "      <th>0</th>\n",
       "      <td>1000</td>\n",
       "      <td>0.79</td>\n",
       "      <td>0.80</td>\n",
       "      <td>0.02</td>\n",
       "      <td>1.75</td>\n",
       "    </tr>\n",
       "    <tr>\n",
       "      <th>1</th>\n",
       "      <td>1001</td>\n",
       "      <td>0.83</td>\n",
       "      <td>0.08</td>\n",
       "      <td>0.18</td>\n",
       "      <td>1.75</td>\n",
       "    </tr>\n",
       "    <tr>\n",
       "      <th>2</th>\n",
       "      <td>1002</td>\n",
       "      <td>0.85</td>\n",
       "      <td>0.01</td>\n",
       "      <td>0.22</td>\n",
       "      <td>1.75</td>\n",
       "    </tr>\n",
       "    <tr>\n",
       "      <th>3</th>\n",
       "      <td>1003</td>\n",
       "      <td>1.25</td>\n",
       "      <td>0.00</td>\n",
       "      <td>0.03</td>\n",
       "      <td>1.75</td>\n",
       "    </tr>\n",
       "    <tr>\n",
       "      <th>4</th>\n",
       "      <td>1004</td>\n",
       "      <td>0.72</td>\n",
       "      <td>0.04</td>\n",
       "      <td>0.10</td>\n",
       "      <td>1.74</td>\n",
       "    </tr>\n",
       "  </tbody>\n",
       "</table>\n",
       "</div>"
      ],
      "text/plain": [
       "   Unnamed: 0  area1_sales  area2_sales  area3_sales  total_sales\n",
       "0        1000         0.79         0.80         0.02         1.75\n",
       "1        1001         0.83         0.08         0.18         1.75\n",
       "2        1002         0.85         0.01         0.22         1.75\n",
       "3        1003         1.25         0.00         0.03         1.75\n",
       "4        1004         0.72         0.04         0.10         1.74"
      ]
     },
     "execution_count": 2,
     "metadata": {},
     "output_type": "execute_result"
    }
   ],
   "source": [
    "Q1_Data = pd.read_csv('/Users/HuixinLi/Desktop/452 ML/HW 2/sales.csv')\n",
    "Q1_Data.head()"
   ]
  },
  {
   "cell_type": "code",
   "execution_count": 3,
   "id": "5a3e6c20",
   "metadata": {},
   "outputs": [
    {
     "name": "stdout",
     "output_type": "stream",
     "text": [
      "<class 'pandas.core.frame.DataFrame'>\n",
      "RangeIndex: 3000 entries, 0 to 2999\n",
      "Data columns (total 5 columns):\n",
      " #   Column       Non-Null Count  Dtype  \n",
      "---  ------       --------------  -----  \n",
      " 0   Unnamed: 0   3000 non-null   int64  \n",
      " 1   area1_sales  3000 non-null   float64\n",
      " 2   area2_sales  3000 non-null   float64\n",
      " 3   area3_sales  3000 non-null   float64\n",
      " 4   total_sales  3000 non-null   float64\n",
      "dtypes: float64(4), int64(1)\n",
      "memory usage: 117.3 KB\n"
     ]
    }
   ],
   "source": [
    "Q1_Data.info()"
   ]
  },
  {
   "cell_type": "code",
   "execution_count": 4,
   "id": "f5386f80",
   "metadata": {},
   "outputs": [
    {
     "data": {
      "text/plain": [
       "3000"
      ]
     },
     "execution_count": 4,
     "metadata": {},
     "output_type": "execute_result"
    }
   ],
   "source": [
    "Q1_Data.isnull().sum()\n",
    "len(Q1_Data)"
   ]
  },
  {
   "cell_type": "code",
   "execution_count": 5,
   "id": "e0927ee7",
   "metadata": {},
   "outputs": [],
   "source": [
    "x1 = Q1_Data[['area1_sales', 'area2_sales', 'area3_sales']]\n",
    "y1 = Q1_Data['total_sales' ]\n",
    "\n",
    "# train the dataset\n",
    "x1_train , x1_test , y1_train , y1_test = train_test_split(x1, y1, test_size= 0.25 , random_state=42)"
   ]
  },
  {
   "cell_type": "code",
   "execution_count": 7,
   "id": "160a4d5a",
   "metadata": {},
   "outputs": [
    {
     "name": "stdout",
     "output_type": "stream",
     "text": [
      "0.6920762767467351\n",
      "0.25219200910086814\n",
      "[0.90699714 0.74912358 1.84274766]\n",
      "R2 value for the model without interaction is 0.6920986138609464\n"
     ]
    }
   ],
   "source": [
    "reg1 = LinearRegression()\n",
    "Val2 = reg1.fit(x1_train,y1_train)\n",
    "\n",
    "#formula1 = 'total_sales ~ area1_sales+area2_sales+area3_sales'\n",
    "#model1 = sm.OLS.from_formula(formula1, result)\n",
    "#result1test = model1.fit()\n",
    "\n",
    "print(reg1.score(x1_test,y1_test))\n",
    "print(reg1.intercept_)\n",
    "print(reg1.coef_)\n",
    "\n",
    "print('R2 value for the model without interaction is ' + str(explained_variance_score(y1_test,reg1.predict(x1_test)))) \n"
   ]
  },
  {
   "cell_type": "code",
   "execution_count": 8,
   "id": "309cb1e6",
   "metadata": {},
   "outputs": [
    {
     "name": "stdout",
     "output_type": "stream",
     "text": [
      "                            OLS Regression Results                            \n",
      "==============================================================================\n",
      "Dep. Variable:            total_sales   R-squared:                       0.715\n",
      "Model:                            OLS   Adj. R-squared:                  0.715\n",
      "Method:                 Least Squares   F-statistic:                     805.3\n",
      "Date:                Sun, 22 Jan 2023   Prob (F-statistic):               0.00\n",
      "Time:                        18:03:32   Log-Likelihood:                 638.79\n",
      "No. Observations:                2250   AIC:                            -1262.\n",
      "Df Residuals:                    2242   BIC:                            -1216.\n",
      "Df Model:                           7                                         \n",
      "Covariance Type:            nonrobust                                         \n",
      "=======================================================================================================\n",
      "                                          coef    std err          t      P>|t|      [0.025      0.975]\n",
      "-------------------------------------------------------------------------------------------------------\n",
      "Intercept                               0.2957      0.012     25.695      0.000       0.273       0.318\n",
      "area1_sales                             0.8037      0.022     37.239      0.000       0.761       0.846\n",
      "area2_sales                             0.6530      0.023     27.829      0.000       0.607       0.699\n",
      "area1_sales:area2_sales                 0.1894      0.108      1.761      0.078      -0.021       0.400\n",
      "area3_sales                             1.4759      0.081     18.281      0.000       1.318       1.634\n",
      "area1_sales:area3_sales                 0.7740      0.174      4.455      0.000       0.433       1.115\n",
      "area2_sales:area3_sales                 0.0923      0.539      0.171      0.864      -0.964       1.148\n",
      "area1_sales:area2_sales:area3_sales     6.4634      1.779      3.634      0.000       2.975       9.952\n",
      "==============================================================================\n",
      "Omnibus:                      427.015   Durbin-Watson:                   1.993\n",
      "Prob(Omnibus):                  0.000   Jarque-Bera (JB):             2354.004\n",
      "Skew:                           0.781   Prob(JB):                         0.00\n",
      "Kurtosis:                       7.761   Cond. No.                         525.\n",
      "==============================================================================\n",
      "\n",
      "Notes:\n",
      "[1] Standard Errors assume that the covariance matrix of the errors is correctly specified.\n"
     ]
    }
   ],
   "source": [
    "# Combining the data for passing it into linear regression model with interaction\n",
    "result = pd.concat([x1_train, y1_train], axis=1)\n",
    "formula1 = 'total_sales ~ area1_sales*area2_sales*area3_sales'\n",
    "model1 = sm.OLS.from_formula(formula1, result)\n",
    "result1 = model1.fit()\n",
    "print(result1.summary())\n"
   ]
  },
  {
   "cell_type": "code",
   "execution_count": 9,
   "id": "9874772f",
   "metadata": {},
   "outputs": [
    {
     "name": "stdout",
     "output_type": "stream",
     "text": [
      "0.7092448918560145\n"
     ]
    }
   ],
   "source": [
    "result1.predict(x1_test)\n",
    "print(explained_variance_score(y1_test,result1.predict(x1_test))) "
   ]
  },
  {
   "cell_type": "markdown",
   "id": "587b5b21",
   "metadata": {},
   "source": [
    "#### Comparing the two out of sample R2 values: 0.69 without interaction variables and 0.71 with interactions variables, we think that interactions should be included because they added some explantory value, and interactions like area1* area3, area1* area2* area3 are significant at any significance level, area1* area2 is significant at 1% significance level."
   ]
  },
  {
   "cell_type": "markdown",
   "id": "4e9ba653",
   "metadata": {},
   "source": [
    "### Q2: Develop a full Logistic Regression Model using customer.csv Download customer.csvto predict whether the customer will purchase the product. Also train trimmed logistic regression models (Trimmed over features in the data). Compute the \"in-sample R2\" (pseudo) for the models you train and compare the models based on this metric."
   ]
  },
  {
   "cell_type": "code",
   "execution_count": 10,
   "id": "fec2c790",
   "metadata": {},
   "outputs": [
    {
     "data": {
      "text/plain": [
       "143"
      ]
     },
     "execution_count": 10,
     "metadata": {},
     "output_type": "execute_result"
    }
   ],
   "source": [
    "Q2_Data = pd.read_csv('/Users/HuixinLi/Desktop/452 ML/HW 2/customer.csv')\n",
    "Q2_Data.head()\n",
    "\n",
    "len(Q2_Data[Q2_Data[\"Purchased\"] == 1])"
   ]
  },
  {
   "cell_type": "code",
   "execution_count": 11,
   "id": "e6450919",
   "metadata": {},
   "outputs": [
    {
     "name": "stdout",
     "output_type": "stream",
     "text": [
      "User ID            0\n",
      "Gender             0\n",
      "Age                0\n",
      "EstimatedSalary    0\n",
      "Purchased          0\n",
      "dtype: int64\n",
      "400\n"
     ]
    }
   ],
   "source": [
    "print(Q2_Data.isnull().sum())\n",
    "print(len(Q2_Data))"
   ]
  },
  {
   "cell_type": "code",
   "execution_count": 12,
   "id": "ac3d17ec",
   "metadata": {},
   "outputs": [
    {
     "name": "stdout",
     "output_type": "stream",
     "text": [
      "                 Generalized Linear Model Regression Results                  \n",
      "==============================================================================\n",
      "Dep. Variable:              Purchased   No. Observations:                  400\n",
      "Model:                            GLM   Df Residuals:                      393\n",
      "Model Family:                Binomial   Df Model:                            6\n",
      "Link Function:                  Logit   Scale:                          1.0000\n",
      "Method:                          IRLS   Log-Likelihood:                -105.16\n",
      "Date:                Sun, 22 Jan 2023   Deviance:                       210.31\n",
      "Time:                        18:11:30   Pearson chi2:                 1.09e+03\n",
      "No. Iterations:                     8   Pseudo R-squ. (CS):             0.5407\n",
      "Covariance Type:            nonrobust                                         \n",
      "==================================================================================================\n",
      "                                     coef    std err          z      P>|z|      [0.025      0.975]\n",
      "--------------------------------------------------------------------------------------------------\n",
      "Intercept                        -37.0373      4.828     -7.671      0.000     -46.501     -27.574\n",
      "Gender[T.Male]                    -0.6031      2.572     -0.234      0.815      -5.644       4.438\n",
      "EstimatedSalary                    0.0003   4.46e-05      6.953      0.000       0.000       0.000\n",
      "Gender[T.Male]:EstimatedSalary  1.443e-06   1.08e-05      0.134      0.894   -1.97e-05    2.26e-05\n",
      "Age                                0.7875      0.106      7.463      0.000       0.581       0.994\n",
      "Gender[T.Male]:Age                 0.0264      0.054      0.488      0.625      -0.080       0.132\n",
      "EstimatedSalary:Age            -6.337e-06   9.62e-07     -6.585      0.000   -8.22e-06   -4.45e-06\n",
      "==================================================================================================\n"
     ]
    }
   ],
   "source": [
    "### Full Model With All Interaction terms ##########\n",
    "\n",
    "formula1 = 'Purchased ~ EstimatedSalary + Age + Gender + Gender*Age + Gender * EstimatedSalary + EstimatedSalary*Age'\n",
    "model2_1 = smf.glm(formula1,family=sm.families.Binomial(),data = Q2_Data)\n",
    "result2_1 = model2_1.fit()\n",
    "print(result2_1.summary()) # the interaction between salary and age is significant"
   ]
  },
  {
   "cell_type": "code",
   "execution_count": 13,
   "id": "934eac82",
   "metadata": {},
   "outputs": [
    {
     "name": "stdout",
     "output_type": "stream",
     "text": [
      "Pseudo R2 value for Model 1: 0.5967759809392116\n"
     ]
    }
   ],
   "source": [
    "#Pseudo R2 calculation\n",
    "Val1 = 1 - (result2_1.deviance/result2_1.null_deviance)\n",
    "print(\"Pseudo R2 value for Model 1: \"+str(Val1))"
   ]
  },
  {
   "cell_type": "code",
   "execution_count": 14,
   "id": "45a74c93",
   "metadata": {},
   "outputs": [
    {
     "name": "stdout",
     "output_type": "stream",
     "text": [
      "                 Generalized Linear Model Regression Results                  \n",
      "==============================================================================\n",
      "Dep. Variable:              Purchased   No. Observations:                  400\n",
      "Model:                            GLM   Df Residuals:                      396\n",
      "Model Family:                Binomial   Df Model:                            3\n",
      "Link Function:                  Logit   Scale:                          1.0000\n",
      "Method:                          IRLS   Log-Likelihood:                -137.92\n",
      "Date:                Sun, 22 Jan 2023   Deviance:                       275.84\n",
      "Time:                        18:12:30   Pearson chi2:                     459.\n",
      "No. Iterations:                     6   Pseudo R-squ. (CS):             0.4590\n",
      "Covariance Type:            nonrobust                                         \n",
      "===================================================================================\n",
      "                      coef    std err          z      P>|z|      [0.025      0.975]\n",
      "-----------------------------------------------------------------------------------\n",
      "Intercept         -12.7836      1.359     -9.405      0.000     -15.448     -10.120\n",
      "Gender[T.Male]      0.3338      0.305      1.094      0.274      -0.264       0.932\n",
      "EstimatedSalary  3.644e-05   5.47e-06      6.659      0.000    2.57e-05    4.72e-05\n",
      "Age                 0.2370      0.026      8.984      0.000       0.185       0.289\n",
      "===================================================================================\n"
     ]
    }
   ],
   "source": [
    "### Full Model Without Interaction terms ##########\n",
    "\n",
    "formula2 = 'Purchased ~ EstimatedSalary + Age + Gender'\n",
    "model2_2 = smf.glm(formula2,family=sm.families.Binomial(),data = Q2_Data)\n",
    "result2_2 = model2_2.fit()\n",
    "print(result2_2.summary())"
   ]
  },
  {
   "cell_type": "code",
   "execution_count": 15,
   "id": "568e781d",
   "metadata": {},
   "outputs": [
    {
     "name": "stdout",
     "output_type": "stream",
     "text": [
      "Pseudo R2 value for Model 2: 0.4711320496548511\n"
     ]
    }
   ],
   "source": [
    "Val1 = 1 - (result2_2.deviance/result2_2.null_deviance)\n",
    "print(\"Pseudo R2 value for Model 2: \"+str(Val1))"
   ]
  },
  {
   "cell_type": "code",
   "execution_count": 19,
   "id": "bf18c804",
   "metadata": {},
   "outputs": [
    {
     "name": "stdout",
     "output_type": "stream",
     "text": [
      "                 Generalized Linear Model Regression Results                  \n",
      "==============================================================================\n",
      "Dep. Variable:              Purchased   No. Observations:                  400\n",
      "Model:                            GLM   Df Residuals:                      395\n",
      "Model Family:                Binomial   Df Model:                            4\n",
      "Link Function:                  Logit   Scale:                          1.0000\n",
      "Method:                          IRLS   Log-Likelihood:                -105.28\n",
      "Date:                Sun, 22 Jan 2023   Deviance:                       210.56\n",
      "Time:                        18:15:55   Pearson chi2:                 1.27e+03\n",
      "No. Iterations:                     8   Pseudo R-squ. (CS):             0.5405\n",
      "Covariance Type:            nonrobust                                         \n",
      "=======================================================================================\n",
      "                          coef    std err          z      P>|z|      [0.025      0.975]\n",
      "---------------------------------------------------------------------------------------\n",
      "Intercept             -37.6865      4.661     -8.085      0.000     -46.822     -28.551\n",
      "Gender[T.Male]          0.6202      0.363      1.707      0.088      -0.092       1.332\n",
      "EstimatedSalary         0.0003   4.41e-05      7.065      0.000       0.000       0.000\n",
      "Age                     0.8014      0.102      7.873      0.000       0.602       1.001\n",
      "EstimatedSalary:Age  -6.36e-06   9.56e-07     -6.651      0.000   -8.23e-06   -4.49e-06\n",
      "=======================================================================================\n"
     ]
    }
   ],
   "source": [
    "### Full Model With Just Salary and Age Interaction term ##########\n",
    "\n",
    "formula3 = 'Purchased ~ EstimatedSalary + Age + Gender + EstimatedSalary*Age'\n",
    "model2_3 = smf.glm(formula3,family=sm.families.Binomial(),data = Q2_Data)\n",
    "\n",
    "result2_3 = model2_3.fit()\n",
    "print(result2_3a.summary())"
   ]
  },
  {
   "cell_type": "code",
   "execution_count": 20,
   "id": "dd58de5b",
   "metadata": {},
   "outputs": [
    {
     "name": "stdout",
     "output_type": "stream",
     "text": [
      "Pseudo R2 value for Model 3: 0.5963044094947236\n"
     ]
    }
   ],
   "source": [
    "Val1 = 1 - (result2_3.deviance/result2_3.null_deviance)\n",
    "print(\"Pseudo R2 value for Model 3: \"+str(Val1))"
   ]
  },
  {
   "cell_type": "markdown",
   "id": "decc9da0",
   "metadata": {},
   "source": [
    "#### Out of the interactions variables, Interaction terms seem to have an impact on the R2 value, as the R2 value reduces significantly upon removing the interaction terms. We also see that only the interaction between Age and Estimated Salary is significant and even if we remove the other two interaction terms, there isnt much impact on overall R2 value."
   ]
  },
  {
   "cell_type": "code",
   "execution_count": 21,
   "id": "309c2062",
   "metadata": {},
   "outputs": [
    {
     "name": "stdout",
     "output_type": "stream",
     "text": [
      "                 Generalized Linear Model Regression Results                  \n",
      "==============================================================================\n",
      "Dep. Variable:              Purchased   No. Observations:                  400\n",
      "Model:                            GLM   Df Residuals:                      396\n",
      "Model Family:                Binomial   Df Model:                            3\n",
      "Link Function:                  Logit   Scale:                          1.0000\n",
      "Method:                          IRLS   Log-Likelihood:                -106.78\n",
      "Date:                Sun, 22 Jan 2023   Deviance:                       213.57\n",
      "Time:                        18:16:33   Pearson chi2:                 1.38e+03\n",
      "No. Iterations:                     7   Pseudo R-squ. (CS):             0.5370\n",
      "Covariance Type:            nonrobust                                         \n",
      "=======================================================================================\n",
      "                          coef    std err          z      P>|z|      [0.025      0.975]\n",
      "---------------------------------------------------------------------------------------\n",
      "Intercept             -36.1099      4.419     -8.172      0.000     -44.770     -27.450\n",
      "EstimatedSalary         0.0003   4.23e-05      7.098      0.000       0.000       0.000\n",
      "Age                     0.7750      0.098      7.933      0.000       0.584       0.967\n",
      "EstimatedSalary:Age -6.146e-06   9.21e-07     -6.670      0.000   -7.95e-06   -4.34e-06\n",
      "=======================================================================================\n"
     ]
    }
   ],
   "source": [
    "# Trimmed Model 1\n",
    "\n",
    "formula4 = 'Purchased ~ EstimatedSalary + Age + EstimatedSalary*Age'\n",
    "model2_4 = smf.glm(formula4,family=sm.families.Binomial(),data = Q2_Data)\n",
    "result2_4 = model2_4.fit()\n",
    "print(result2_4.summary())"
   ]
  },
  {
   "cell_type": "code",
   "execution_count": 22,
   "id": "07b46e84",
   "metadata": {},
   "outputs": [
    {
     "name": "stdout",
     "output_type": "stream",
     "text": [
      "Pseudo R2 value for Model 4: 0.5905275947196518\n"
     ]
    }
   ],
   "source": [
    "Val1 = 1 - (result2_4.deviance/result2_4.null_deviance)\n",
    "print(\"Pseudo R2 value for Model 4: \"+str(Val1))"
   ]
  },
  {
   "cell_type": "code",
   "execution_count": 23,
   "id": "4b8185e2",
   "metadata": {},
   "outputs": [
    {
     "name": "stdout",
     "output_type": "stream",
     "text": [
      "                 Generalized Linear Model Regression Results                  \n",
      "==============================================================================\n",
      "Dep. Variable:              Purchased   No. Observations:                  400\n",
      "Model:                            GLM   Df Residuals:                      397\n",
      "Model Family:                Binomial   Df Model:                            2\n",
      "Link Function:                  Logit   Scale:                          1.0000\n",
      "Method:                          IRLS   Log-Likelihood:                -168.07\n",
      "Date:                Sun, 22 Jan 2023   Deviance:                       336.14\n",
      "Time:                        18:17:51   Pearson chi2:                     395.\n",
      "No. Iterations:                     5   Pseudo R-squ. (CS):             0.3710\n",
      "Covariance Type:            nonrobust                                         \n",
      "==================================================================================\n",
      "                     coef    std err          z      P>|z|      [0.025      0.975]\n",
      "----------------------------------------------------------------------------------\n",
      "Intercept         -8.1154      0.814     -9.973      0.000      -9.710      -6.520\n",
      "Gender[T.Male]     0.0947      0.274      0.346      0.729      -0.441       0.631\n",
      "Age                0.1895      0.019      9.842      0.000       0.152       0.227\n",
      "==================================================================================\n"
     ]
    }
   ],
   "source": [
    "# Trimmed Model 2\n",
    "\n",
    "formula5 = 'Purchased ~  Age + Gender'\n",
    "model2_5 = smf.glm(formula5,family=sm.families.Binomial(),data = Q2_Data)\n",
    "result2_5 = model2_5.fit()\n",
    "print(result2_5.summary())"
   ]
  },
  {
   "cell_type": "code",
   "execution_count": 26,
   "id": "c35ab04d",
   "metadata": {},
   "outputs": [
    {
     "name": "stdout",
     "output_type": "stream",
     "text": [
      "Pseudo R2 value for Model 5: 0.3555239080809599\n"
     ]
    }
   ],
   "source": [
    "Val1 = 1 - (result2_5.deviance/result2_5.null_deviance)\n",
    "print(\"Pseudo R2 value for Model 5: \"+str(Val1))"
   ]
  },
  {
   "cell_type": "code",
   "execution_count": 27,
   "id": "7b2e3c6e",
   "metadata": {},
   "outputs": [
    {
     "name": "stdout",
     "output_type": "stream",
     "text": [
      "                 Generalized Linear Model Regression Results                  \n",
      "==============================================================================\n",
      "Dep. Variable:              Purchased   No. Observations:                  400\n",
      "Model:                            GLM   Df Residuals:                      397\n",
      "Model Family:                Binomial   Df Model:                            2\n",
      "Link Function:                  Logit   Scale:                          1.0000\n",
      "Method:                          IRLS   Log-Likelihood:                -233.78\n",
      "Date:                Sun, 22 Jan 2023   Deviance:                       467.56\n",
      "Time:                        18:18:09   Pearson chi2:                     425.\n",
      "No. Iterations:                     4   Pseudo R-squ. (CS):             0.1263\n",
      "Covariance Type:            nonrobust                                         \n",
      "===================================================================================\n",
      "                      coef    std err          z      P>|z|      [0.025      0.975]\n",
      "-----------------------------------------------------------------------------------\n",
      "Intercept          -2.2720      0.310     -7.324      0.000      -2.880      -1.664\n",
      "Gender[T.Male]     -0.0918      0.224     -0.409      0.683      -0.532       0.348\n",
      "EstimatedSalary   2.38e-05   3.52e-06      6.758      0.000    1.69e-05    3.07e-05\n",
      "===================================================================================\n"
     ]
    }
   ],
   "source": [
    "# Trimmed Model 3\n",
    "formula6 = 'Purchased ~ EstimatedSalary + Gender'\n",
    "model2_6 = smf.glm(formula6,family=sm.families.Binomial(),data = Q2_Data)\n",
    "result2_6 = model2_6.fit()\n",
    "print(result2_6.summary())"
   ]
  },
  {
   "cell_type": "code",
   "execution_count": 28,
   "id": "71de294a",
   "metadata": {},
   "outputs": [
    {
     "name": "stdout",
     "output_type": "stream",
     "text": [
      "Pseudo R2 value for Model 6: 0.10355988224094104\n"
     ]
    }
   ],
   "source": [
    "Val1 = 1 - (result2_6.deviance/result2_6.null_deviance)\n",
    "print(\"Pseudo R2 value for Model 6: \"+str(Val1))"
   ]
  },
  {
   "cell_type": "code",
   "execution_count": 29,
   "id": "8d023b38",
   "metadata": {},
   "outputs": [
    {
     "name": "stdout",
     "output_type": "stream",
     "text": [
      "                 Generalized Linear Model Regression Results                  \n",
      "==============================================================================\n",
      "Dep. Variable:              Purchased   No. Observations:                  400\n",
      "Model:                            GLM   Df Residuals:                      398\n",
      "Model Family:                Binomial   Df Model:                            1\n",
      "Link Function:                  Logit   Scale:                          1.0000\n",
      "Method:                          IRLS   Log-Likelihood:                -233.86\n",
      "Date:                Sun, 22 Jan 2023   Deviance:                       467.73\n",
      "Time:                        18:21:58   Pearson chi2:                     426.\n",
      "No. Iterations:                     4   Pseudo R-squ. (CS):             0.1259\n",
      "Covariance Type:            nonrobust                                         \n",
      "===================================================================================\n",
      "                      coef    std err          z      P>|z|      [0.025      0.975]\n",
      "-----------------------------------------------------------------------------------\n",
      "Intercept          -2.3227      0.286     -8.134      0.000      -2.882      -1.763\n",
      "EstimatedSalary  2.387e-05   3.52e-06      6.790      0.000     1.7e-05    3.08e-05\n",
      "===================================================================================\n"
     ]
    }
   ],
   "source": [
    "# Trimmed Model 4\n",
    "formula7 = 'Purchased ~ EstimatedSalary'\n",
    "model2_7 = smf.glm(formula7,family=sm.families.Binomial(),data = Q2_Data)\n",
    "result2_7 = model2_7.fit()\n",
    "print(result2_7.summary())"
   ]
  },
  {
   "cell_type": "code",
   "execution_count": 30,
   "id": "89c9ef99",
   "metadata": {},
   "outputs": [
    {
     "name": "stdout",
     "output_type": "stream",
     "text": [
      "Pseudo R2 value for Model 7: 0.10323917573232344\n"
     ]
    }
   ],
   "source": [
    "Val1 = 1 - (result2_7.deviance/result2_7.null_deviance)\n",
    "print(\"Pseudo R2 value for Model 7: \"+str(Val1))"
   ]
  },
  {
   "cell_type": "code",
   "execution_count": 31,
   "id": "0941381a",
   "metadata": {},
   "outputs": [
    {
     "name": "stdout",
     "output_type": "stream",
     "text": [
      "                 Generalized Linear Model Regression Results                  \n",
      "==============================================================================\n",
      "Dep. Variable:              Purchased   No. Observations:                  400\n",
      "Model:                            GLM   Df Residuals:                      398\n",
      "Model Family:                Binomial   Df Model:                            1\n",
      "Link Function:                  Logit   Scale:                          1.0000\n",
      "Method:                          IRLS   Log-Likelihood:                -260.43\n",
      "Date:                Sun, 22 Jan 2023   Deviance:                       520.85\n",
      "Time:                        18:22:02   Pearson chi2:                     400.\n",
      "No. Iterations:                     4   Pseudo R-squ. (CS):           0.001803\n",
      "Covariance Type:            nonrobust                                         \n",
      "==================================================================================\n",
      "                     coef    std err          z      P>|z|      [0.025      0.975]\n",
      "----------------------------------------------------------------------------------\n",
      "Intercept         -0.5004      0.144     -3.464      0.001      -0.783      -0.217\n",
      "Gender[T.Male]    -0.1775      0.209     -0.849      0.396      -0.587       0.232\n",
      "==================================================================================\n"
     ]
    }
   ],
   "source": [
    "# Trimmed Model 5\n",
    "formula8 = 'Purchased ~ Gender'\n",
    "model2_8 = smf.glm(formula8,family=sm.families.Binomial(),data = Q2_Data)\n",
    "result2_8 = model2_8.fit()\n",
    "print(result2_8.summary())"
   ]
  },
  {
   "cell_type": "code",
   "execution_count": 32,
   "id": "6296cfc4",
   "metadata": {},
   "outputs": [
    {
     "name": "stdout",
     "output_type": "stream",
     "text": [
      "Pseudo R2 value for Model 8: 0.0013842739718945563\n"
     ]
    }
   ],
   "source": [
    "Val1 = 1 - (result2_8.deviance/result2_8.null_deviance)\n",
    "print(\"Pseudo R2 value for Model 8: \"+str(Val1))"
   ]
  },
  {
   "cell_type": "code",
   "execution_count": 33,
   "id": "5b5fa096",
   "metadata": {},
   "outputs": [
    {
     "name": "stdout",
     "output_type": "stream",
     "text": [
      "                 Generalized Linear Model Regression Results                  \n",
      "==============================================================================\n",
      "Dep. Variable:              Purchased   No. Observations:                  400\n",
      "Model:                            GLM   Df Residuals:                      398\n",
      "Model Family:                Binomial   Df Model:                            1\n",
      "Link Function:                  Logit   Scale:                          1.0000\n",
      "Method:                          IRLS   Log-Likelihood:                -233.86\n",
      "Date:                Sun, 22 Jan 2023   Deviance:                       467.73\n",
      "Time:                        18:22:06   Pearson chi2:                     426.\n",
      "No. Iterations:                     4   Pseudo R-squ. (CS):             0.1259\n",
      "Covariance Type:            nonrobust                                         \n",
      "===================================================================================\n",
      "                      coef    std err          z      P>|z|      [0.025      0.975]\n",
      "-----------------------------------------------------------------------------------\n",
      "Intercept          -2.3227      0.286     -8.134      0.000      -2.882      -1.763\n",
      "EstimatedSalary  2.387e-05   3.52e-06      6.790      0.000     1.7e-05    3.08e-05\n",
      "===================================================================================\n"
     ]
    }
   ],
   "source": [
    "# Trimmed Model 6\n",
    "formula9 = 'Purchased ~ EstimatedSalary'\n",
    "model2_9 = smf.glm(formula9,family=sm.families.Binomial(),data = Q2_Data)\n",
    "result2_9 = model2_9.fit()\n",
    "print(result2_9.summary())"
   ]
  },
  {
   "cell_type": "code",
   "execution_count": 34,
   "id": "dd06ab90",
   "metadata": {},
   "outputs": [
    {
     "name": "stdout",
     "output_type": "stream",
     "text": [
      "Pseudo R2 value for Model 9: 0.10323917573232344\n"
     ]
    }
   ],
   "source": [
    "Val1 = 1 - (result2_9.deviance/result2_9.null_deviance)\n",
    "print(\"Pseudo R2 value for Model 9: \"+str(Val1))"
   ]
  },
  {
   "cell_type": "markdown",
   "id": "07b12493",
   "metadata": {},
   "source": [
    "#### Out of all these models, the full model with interaction term between Age and Estimated Salary works the best based on the Pseudo R2 values."
   ]
  },
  {
   "cell_type": "markdown",
   "id": "a96f425d",
   "metadata": {},
   "source": [
    "### Q3: For the Logistic Regression models trained above, pick the best model wrt to the in-sample R2 and give your interpretation of the model’s coefficients (For example, what effect does a positive or negative coefficient have on the model and so on)."
   ]
  },
  {
   "cell_type": "markdown",
   "id": "af4cdf45",
   "metadata": {},
   "source": [
    "#### Best Model is the full model, with interaction between Age and Estimated Salary.  Y= -37.69 + 0.62*Gender(Males) + 0.0003*Salary + 0.8014*Age - 6.36e-06*Salary:Age\n",
    "#### Based on the co-efficients of this model, we can infer that Males (0.62 as differential intercept coefficient) have a slightly higher probability for purchasing than females (intercept); Since Age and Estimated Salary both have positive coefficients, meaning with increase in Age and Estimated Salary, it is expected that the probability of purchase will also increase. The interaction term of Age and Estimated Salary has a negative coefficient but a very small value, which might imply that as a person's age and salary increase together, the probability of purchase might decrease a little bit."
   ]
  },
  {
   "cell_type": "markdown",
   "id": "a3664c51",
   "metadata": {},
   "source": [
    "### Q4: Is accuracy a good metric to judge the above model? Give reasons and alternatives to support your answer."
   ]
  },
  {
   "cell_type": "markdown",
   "id": "36a79a85",
   "metadata": {},
   "source": [
    "#### It is not a good idea to solely rely on Accuracy as a measure to judge a logistic regression models especially when we have unbalanced data. In this case the data is unbalanced where records with purchased flag as 1 are 143 vs flag 0 are 257. So even if lets suppose our model predicts purchased flag as 0 for all records, the accuracy of the model is still 60% which is not the case\n",
    "\n",
    "#### Therefore, it is imperative for us to consider other metrics such as Recall and Precision which measures the ratio of true positives from all the positive values (TP/TP + FN) and ratio of true positives from all predicted positives (TP/TP + FP) respectively\n",
    "\n"
   ]
  },
  {
   "cell_type": "markdown",
   "id": "f372062e",
   "metadata": {},
   "source": [
    "### Q5: Plot the interactions of the ‘Age’ and ‘Gender’ features with the ‘Purchased’ output. "
   ]
  },
  {
   "cell_type": "code",
   "execution_count": 45,
   "id": "35d26ab1",
   "metadata": {},
   "outputs": [],
   "source": [
    "Q2Data_Male = Q2_Data[Q2_Data[\"Gender\"] == \"Male\"]\n",
    "Q2Data_Female = Q2_Data[Q2_Data[\"Gender\"] == \"Female\"]\n",
    "\n",
    "reg1 = LogisticRegression()\n",
    "reg2 = LogisticRegression()\n",
    "Male_X = pd.DataFrame(Q2Data_Male['Age'])\n",
    "Female_X = pd.DataFrame(Q2Data_Female['Age'])"
   ]
  },
  {
   "cell_type": "code",
   "execution_count": 46,
   "id": "744928ef",
   "metadata": {},
   "outputs": [],
   "source": [
    "# male Regression line\n",
    "MaleReg = reg1.fit(Male_X,Q2Data_Male['Purchased'])\n",
    "FemaleReg = reg2.fit(Female_X,Q2Data_Female['Purchased'])"
   ]
  },
  {
   "cell_type": "code",
   "execution_count": 59,
   "id": "01cb1391",
   "metadata": {},
   "outputs": [
    {
     "data": {
      "image/png": "[encoded data removed]",
      "text/plain": [
       "<Figure size 1106x1000 with 1 Axes>"
      ]
     },
     "metadata": {},
     "output_type": "display_data"
    }
   ],
   "source": [
    "pal = dict(Male=\"#6495ED\", Female=\"#F08080\")\n",
    "g = sns.lmplot(x=\"Age\", y=\"Purchased\", hue=\"Gender\", data=Q2_Data,\n",
    "               palette=pal, y_jitter=.02, logistic=True, truncate=False, height=10)\n",
    "\n",
    "g.set(xlim=(15, 75), ylim=(-.05, 1.05))\n",
    "plt.show()"
   ]
  },
  {
   "cell_type": "markdown",
   "id": "0001adec",
   "metadata": {},
   "source": [
    "### Q6:\n",
    "\n",
    "#### Plot A - Interaction should be included, as there are clear differences in the slopes for the categorical variables, and have intercepts to the left end, so there is some impact due to interaction. \n",
    "#### Plot B - Interaction should be included, as there are clear differences in the slopes for the categorical variables, and have intercepts to the right end,  so there is some impact due to interaction. \n",
    "#### Plot C - Interaction should not be included, as it seems there is no difference in slopes. Lines are parallel.  All these lines are just displaced by some value, which can be easily estimated through individiual co-efficient and interactions will not be required."
   ]
  }
 ],
 "metadata": {
  "kernelspec": {
   "display_name": "Python 3 (ipykernel)",
   "language": "python",
   "name": "python3"
  },
  "language_info": {
   "codemirror_mode": {
    "name": "ipython",
    "version": 3
   },
   "file_extension": ".py",
   "mimetype": "text/x-python",
   "name": "python",
   "nbconvert_exporter": "python",
   "pygments_lexer": "ipython3",
   "version": "3.9.13"
  }
 },
 "nbformat": 4,
 "nbformat_minor": 5
}
